{
  "nbformat": 4,
  "nbformat_minor": 0,
  "metadata": {
    "colab": {
      "provenance": []
    },
    "kernelspec": {
      "name": "python3",
      "display_name": "Python 3"
    },
    "language_info": {
      "name": "python"
    }
  },
  "cells": [
    {
      "cell_type": "markdown",
      "source": [
        "# Assigment 2: Python Exercises\n",
        "\n",
        "**Student:** Carolina Franco Ramírez\n",
        "\n",
        "**Id:**1902496\n",
        "\n",
        "**Teacher:** Ing. Daniel Isaías López Páez\n",
        "\n",
        "**Group:**001\n",
        "\n",
        "**Semester:**7th"
      ],
      "metadata": {
        "id": "862q0mm3m5kB"
      }
    },
    {
      "cell_type": "markdown",
      "source": [
        "**Text Analysis Tool:** Create a Python program that reads a text file and performs various analysis on its content. The program should: count the number of words, sentences and paragraphs. Calculate the average word length. Identify the most common words and their frequencies."
      ],
      "metadata": {
        "id": "-AQFTWLbKejg"
      }
    },
    {
      "cell_type": "code",
      "execution_count": 8,
      "metadata": {
        "colab": {
          "base_uri": "https://localhost:8080/",
          "height": 388
        },
        "id": "t7iAhG1twot2",
        "outputId": "9d498243-5cd6-46dd-d09b-1856b80dc35a"
      },
      "outputs": [
        {
          "output_type": "display_data",
          "data": {
            "text/plain": [
              "<IPython.core.display.HTML object>"
            ],
            "text/html": [
              "\n",
              "     <input type=\"file\" id=\"files-f5328150-f6d7-41a7-8433-a531e9277ed0\" name=\"files[]\" multiple disabled\n",
              "        style=\"border:none\" />\n",
              "     <output id=\"result-f5328150-f6d7-41a7-8433-a531e9277ed0\">\n",
              "      Upload widget is only available when the cell has been executed in the\n",
              "      current browser session. Please rerun this cell to enable.\n",
              "      </output>\n",
              "      <script>// Copyright 2017 Google LLC\n",
              "//\n",
              "// Licensed under the Apache License, Version 2.0 (the \"License\");\n",
              "// you may not use this file except in compliance with the License.\n",
              "// You may obtain a copy of the License at\n",
              "//\n",
              "//      http://www.apache.org/licenses/LICENSE-2.0\n",
              "//\n",
              "// Unless required by applicable law or agreed to in writing, software\n",
              "// distributed under the License is distributed on an \"AS IS\" BASIS,\n",
              "// WITHOUT WARRANTIES OR CONDITIONS OF ANY KIND, either express or implied.\n",
              "// See the License for the specific language governing permissions and\n",
              "// limitations under the License.\n",
              "\n",
              "/**\n",
              " * @fileoverview Helpers for google.colab Python module.\n",
              " */\n",
              "(function(scope) {\n",
              "function span(text, styleAttributes = {}) {\n",
              "  const element = document.createElement('span');\n",
              "  element.textContent = text;\n",
              "  for (const key of Object.keys(styleAttributes)) {\n",
              "    element.style[key] = styleAttributes[key];\n",
              "  }\n",
              "  return element;\n",
              "}\n",
              "\n",
              "// Max number of bytes which will be uploaded at a time.\n",
              "const MAX_PAYLOAD_SIZE = 100 * 1024;\n",
              "\n",
              "function _uploadFiles(inputId, outputId) {\n",
              "  const steps = uploadFilesStep(inputId, outputId);\n",
              "  const outputElement = document.getElementById(outputId);\n",
              "  // Cache steps on the outputElement to make it available for the next call\n",
              "  // to uploadFilesContinue from Python.\n",
              "  outputElement.steps = steps;\n",
              "\n",
              "  return _uploadFilesContinue(outputId);\n",
              "}\n",
              "\n",
              "// This is roughly an async generator (not supported in the browser yet),\n",
              "// where there are multiple asynchronous steps and the Python side is going\n",
              "// to poll for completion of each step.\n",
              "// This uses a Promise to block the python side on completion of each step,\n",
              "// then passes the result of the previous step as the input to the next step.\n",
              "function _uploadFilesContinue(outputId) {\n",
              "  const outputElement = document.getElementById(outputId);\n",
              "  const steps = outputElement.steps;\n",
              "\n",
              "  const next = steps.next(outputElement.lastPromiseValue);\n",
              "  return Promise.resolve(next.value.promise).then((value) => {\n",
              "    // Cache the last promise value to make it available to the next\n",
              "    // step of the generator.\n",
              "    outputElement.lastPromiseValue = value;\n",
              "    return next.value.response;\n",
              "  });\n",
              "}\n",
              "\n",
              "/**\n",
              " * Generator function which is called between each async step of the upload\n",
              " * process.\n",
              " * @param {string} inputId Element ID of the input file picker element.\n",
              " * @param {string} outputId Element ID of the output display.\n",
              " * @return {!Iterable<!Object>} Iterable of next steps.\n",
              " */\n",
              "function* uploadFilesStep(inputId, outputId) {\n",
              "  const inputElement = document.getElementById(inputId);\n",
              "  inputElement.disabled = false;\n",
              "\n",
              "  const outputElement = document.getElementById(outputId);\n",
              "  outputElement.innerHTML = '';\n",
              "\n",
              "  const pickedPromise = new Promise((resolve) => {\n",
              "    inputElement.addEventListener('change', (e) => {\n",
              "      resolve(e.target.files);\n",
              "    });\n",
              "  });\n",
              "\n",
              "  const cancel = document.createElement('button');\n",
              "  inputElement.parentElement.appendChild(cancel);\n",
              "  cancel.textContent = 'Cancel upload';\n",
              "  const cancelPromise = new Promise((resolve) => {\n",
              "    cancel.onclick = () => {\n",
              "      resolve(null);\n",
              "    };\n",
              "  });\n",
              "\n",
              "  // Wait for the user to pick the files.\n",
              "  const files = yield {\n",
              "    promise: Promise.race([pickedPromise, cancelPromise]),\n",
              "    response: {\n",
              "      action: 'starting',\n",
              "    }\n",
              "  };\n",
              "\n",
              "  cancel.remove();\n",
              "\n",
              "  // Disable the input element since further picks are not allowed.\n",
              "  inputElement.disabled = true;\n",
              "\n",
              "  if (!files) {\n",
              "    return {\n",
              "      response: {\n",
              "        action: 'complete',\n",
              "      }\n",
              "    };\n",
              "  }\n",
              "\n",
              "  for (const file of files) {\n",
              "    const li = document.createElement('li');\n",
              "    li.append(span(file.name, {fontWeight: 'bold'}));\n",
              "    li.append(span(\n",
              "        `(${file.type || 'n/a'}) - ${file.size} bytes, ` +\n",
              "        `last modified: ${\n",
              "            file.lastModifiedDate ? file.lastModifiedDate.toLocaleDateString() :\n",
              "                                    'n/a'} - `));\n",
              "    const percent = span('0% done');\n",
              "    li.appendChild(percent);\n",
              "\n",
              "    outputElement.appendChild(li);\n",
              "\n",
              "    const fileDataPromise = new Promise((resolve) => {\n",
              "      const reader = new FileReader();\n",
              "      reader.onload = (e) => {\n",
              "        resolve(e.target.result);\n",
              "      };\n",
              "      reader.readAsArrayBuffer(file);\n",
              "    });\n",
              "    // Wait for the data to be ready.\n",
              "    let fileData = yield {\n",
              "      promise: fileDataPromise,\n",
              "      response: {\n",
              "        action: 'continue',\n",
              "      }\n",
              "    };\n",
              "\n",
              "    // Use a chunked sending to avoid message size limits. See b/62115660.\n",
              "    let position = 0;\n",
              "    do {\n",
              "      const length = Math.min(fileData.byteLength - position, MAX_PAYLOAD_SIZE);\n",
              "      const chunk = new Uint8Array(fileData, position, length);\n",
              "      position += length;\n",
              "\n",
              "      const base64 = btoa(String.fromCharCode.apply(null, chunk));\n",
              "      yield {\n",
              "        response: {\n",
              "          action: 'append',\n",
              "          file: file.name,\n",
              "          data: base64,\n",
              "        },\n",
              "      };\n",
              "\n",
              "      let percentDone = fileData.byteLength === 0 ?\n",
              "          100 :\n",
              "          Math.round((position / fileData.byteLength) * 100);\n",
              "      percent.textContent = `${percentDone}% done`;\n",
              "\n",
              "    } while (position < fileData.byteLength);\n",
              "  }\n",
              "\n",
              "  // All done.\n",
              "  yield {\n",
              "    response: {\n",
              "      action: 'complete',\n",
              "    }\n",
              "  };\n",
              "}\n",
              "\n",
              "scope.google = scope.google || {};\n",
              "scope.google.colab = scope.google.colab || {};\n",
              "scope.google.colab._files = {\n",
              "  _uploadFiles,\n",
              "  _uploadFilesContinue,\n",
              "};\n",
              "})(self);\n",
              "</script> "
            ]
          },
          "metadata": {}
        },
        {
          "output_type": "stream",
          "name": "stdout",
          "text": [
            "Saving Cuento.txt to Cuento.txt\n",
            "Título: El Árbol Mágico\n",
            "\n",
            "Había una vez un pequeño pueblo rodeado de un denso bosque. En el centro del pueblo, se encontraba un árbol muy especial: el Árbol Mágico. Se decía que este árbol tenía el poder de conceder un deseo a cualquiera que se acercara a él con un corazón puro y un deseo sincero.\n",
            "\n",
            "Un día, un niño llamado Lucas escuchó hablar del Árbol Mágico y decidió aventurarse en el bosque para encontrarlo. Después de una larga caminata, finalmente llegó al Árbol Mágico. Se paró frente a él y cerró los ojos con fuerza, pensando en su deseo más profundo.\n",
            "\n",
            "Cuando Lucas abrió los ojos, quedó asombrado al ver que su deseo se había hecho realidad. El Árbol Mágico había convertido su juguete roto en uno nuevo y brillante. Lucas estaba lleno de alegría y gratitud.\n",
            "\n",
            "A lo largo de los años, el pueblo entero visitó el Árbol Mágico, y sus deseos se hicieron realidad uno por uno. El pueblo prosperó y la gente vivió en armonía gracias a la generosidad del Árbol Mágico.\n",
            "\n",
            "El tiempo pasó, y Lucas, ahora un hombre mayor, regresó al Árbol Mágico una última vez. Esta vez, no tenía un deseo egoísta en mente, solo quería agradecer al árbol por todo lo que había hecho por él y su pueblo.\n",
            "\n",
            "El Árbol Mágico sonrió y sus hojas brillaron con un resplandor cálido. Le susurró a Lucas: \"La verdadera magia está en la bondad y la gratitud que tienes en tu corazón\".\n",
            "\n",
            "Lucas regresó al pueblo con una lección valiosa en su corazón. Aprendió que los verdaderos deseos se cumplen cuando se hacen desde el amor y la generosidad.\n",
            "\n",
            "Y así, el Árbol Mágico continuó brillando en el bosque, recordándoles a todos que la magia verdadera se encuentra en los actos de bondad y gratitud.\n"
          ]
        }
      ],
      "source": [
        "from google.colab import files\n",
        "\n",
        "# Subir un archivo desde tu sistema local\n",
        "uploaded = files.upload()\n",
        "\n",
        "# Nombre del archivo cargado\n",
        "archivo_cargado = list(uploaded.keys())[0]\n",
        "\n",
        "# Leer el contenido del archivo\n",
        "with open(archivo_cargado, 'r', encoding='utf-8') as archivo:\n",
        "    contenido = archivo.read()\n",
        "    print(contenido)"
      ]
    },
    {
      "cell_type": "code",
      "source": [
        "import nltk\n",
        "from nltk.tokenize import sent_tokenize\n",
        "from collections import Counter\n",
        "import string\n",
        "nltk.download('punkt')\n",
        "\n",
        "\n",
        "def Calculos(texto):\n",
        "  Words = texto.split()\n",
        "  Sentences = sent_tokenize(texto)\n",
        "  Paragraphs = texto.split('\\n\\n')\n",
        "  total_caracters = len(contenido.replace(\" \", \"\"))\n",
        "  Average_lenght = total_caracters / len(Words)\n",
        "  frecuency_words = Counter(Words)\n",
        "  Common_words = frecuency_words.most_common(3)\n",
        "\n",
        "  resultados = {\n",
        "      'Number of words': len(Words),\n",
        "      'Number of sentences': len(Sentences),\n",
        "      'Number of paragraphs': len(Paragraphs),\n",
        "      'Average word lenght': Average_lenght,\n",
        "      'Most common words and their frecuencies': Common_words\n",
        "  }\n",
        "  return resultados\n",
        "\n",
        "resultados = Calculos(contenido)\n",
        "for nombre, valor in resultados.items():\n",
        "  print(f\"{nombre}: {valor}\")"
      ],
      "metadata": {
        "colab": {
          "base_uri": "https://localhost:8080/"
        },
        "id": "nZW3H_TRwsDE",
        "outputId": "4af3c439-a6d0-4d0e-abee-3d0103c77a22"
      },
      "execution_count": 9,
      "outputs": [
        {
          "output_type": "stream",
          "name": "stderr",
          "text": [
            "[nltk_data] Downloading package punkt to /root/nltk_data...\n",
            "[nltk_data]   Unzipping tokenizers/punkt.zip.\n"
          ]
        },
        {
          "output_type": "stream",
          "name": "stdout",
          "text": [
            "Number of words: 301\n",
            "Number of sentences: 18\n",
            "Number of paragraphs: 9\n",
            "Average word lenght: 4.5647840531561465\n",
            "Most common words and their frecuencies: [('y', 13), ('Árbol', 10), ('un', 10)]\n"
          ]
        }
      ]
    },
    {
      "cell_type": "code",
      "source": [
        "resultados = Calculos(contenido)\n",
        "print(f\"Number of words: {resultados['Number of words']}\")"
      ],
      "metadata": {
        "colab": {
          "base_uri": "https://localhost:8080/"
        },
        "id": "J7p30fGPOPF8",
        "outputId": "93f751c4-4ef2-40f2-ebe0-0e80af5aaa9f"
      },
      "execution_count": 10,
      "outputs": [
        {
          "output_type": "stream",
          "name": "stdout",
          "text": [
            "Number of words: 301\n"
          ]
        }
      ]
    },
    {
      "cell_type": "code",
      "source": [
        "resultados = Calculos(contenido)\n",
        "print(f\"Number of sentences: {resultados['Number of sentences']}\")"
      ],
      "metadata": {
        "colab": {
          "base_uri": "https://localhost:8080/"
        },
        "id": "41g64GouRYGo",
        "outputId": "532901aa-f08d-4d08-e03d-068ae0a8d9b2"
      },
      "execution_count": 11,
      "outputs": [
        {
          "output_type": "stream",
          "name": "stdout",
          "text": [
            "Number of sentences: 18\n"
          ]
        }
      ]
    },
    {
      "cell_type": "code",
      "source": [
        "resultados = Calculos(contenido)\n",
        "print(f\"Number of paragraphs: {resultados['Number of paragraphs']}\")"
      ],
      "metadata": {
        "colab": {
          "base_uri": "https://localhost:8080/"
        },
        "id": "4Atr2lWyRZTo",
        "outputId": "19d21a42-2f1a-4b29-a42f-cec868691a70"
      },
      "execution_count": 12,
      "outputs": [
        {
          "output_type": "stream",
          "name": "stdout",
          "text": [
            "Number of paragraphs: 9\n"
          ]
        }
      ]
    },
    {
      "cell_type": "code",
      "source": [
        "resultados = Calculos(contenido)\n",
        "print(f\"Average word lenght: {resultados['Average word lenght']}\")"
      ],
      "metadata": {
        "colab": {
          "base_uri": "https://localhost:8080/"
        },
        "id": "airsFaIZRYcV",
        "outputId": "8020df77-d0d9-48f7-e4b4-240451f1bf5d"
      },
      "execution_count": 13,
      "outputs": [
        {
          "output_type": "stream",
          "name": "stdout",
          "text": [
            "Average word lenght: 4.5647840531561465\n"
          ]
        }
      ]
    },
    {
      "cell_type": "code",
      "source": [
        "resultados = Calculos(contenido)\n",
        "Common_words = resultados['Most common words and their frecuencies']\n",
        "\n",
        "for word, frecuency in Common_words:\n",
        "  print(f\"{word}: {frecuency}\")"
      ],
      "metadata": {
        "colab": {
          "base_uri": "https://localhost:8080/"
        },
        "id": "pRpinIbRSuZV",
        "outputId": "23429531-6d78-484a-b917-5ddd365f0cbb"
      },
      "execution_count": 14,
      "outputs": [
        {
          "output_type": "stream",
          "name": "stdout",
          "text": [
            "y: 13\n",
            "Árbol: 10\n",
            "un: 10\n"
          ]
        }
      ]
    },
    {
      "cell_type": "markdown",
      "source": [
        "**Hangman Game:** Create a Python program that allows a user to play the game of Handyman. The program should randomly select a word from a predefined list, and the player must guess letters one at a time until they guess the word correctly or rub out of attempts."
      ],
      "metadata": {
        "id": "Q7D80_ZyZc8T"
      }
    },
    {
      "cell_type": "code",
      "source": [
        "import random\n",
        "\n",
        "WordList = [\"jimin\", \"bts\", \"income\", \"phone\", \"run\"]\n",
        "Word = random.choice(WordList)\n",
        "Scripts = [\"_\"] * len(Word)\n",
        "\n",
        "print(f\"The word you have guess has {len(Word)} letters. Let´s play\")\n",
        "\n",
        "max_attempts = 15"
      ],
      "metadata": {
        "id": "k-Qx6DQlchmK",
        "colab": {
          "base_uri": "https://localhost:8080/"
        },
        "outputId": "3c94a3ce-e477-412e-92cc-21b3e0a2882f"
      },
      "execution_count": 6,
      "outputs": [
        {
          "output_type": "stream",
          "name": "stdout",
          "text": [
            "The word you have guess has 3 letters. Let´s play\n"
          ]
        }
      ]
    },
    {
      "cell_type": "code",
      "source": [
        "letters_guessed = []\n",
        "while max_attempts > 0:\n",
        "  print(\" \".join(Scripts))\n",
        "  letter = input(\"Guess a letter: \")\n",
        "\n",
        "  if letter in Word:\n",
        "    letters_guessed.append(letter)\n",
        "    for i in range(len(Word)):\n",
        "      if Word[i] == letter:\n",
        "        Scripts[i] = Word[i]\n",
        "\n",
        "  else:\n",
        "    max_attempts -= 1\n",
        "    print(f\"Wrong letter, You have {max_attempts} attempts left.\")\n",
        "\n",
        "  if \"\".join(Scripts) == Word:\n",
        "    print(\"Congratulation! You have guessed the word correctly:\", Word)\n",
        "    break\n",
        "\n",
        "if max_attempts == 0:\n",
        "  print(\"Sorry, that is incorrect! The word was:\", Word)"
      ],
      "metadata": {
        "colab": {
          "base_uri": "https://localhost:8080/"
        },
        "id": "x9eHdJRx5Uly",
        "outputId": "3c75d135-cdc7-4e20-ce8f-76179f9e276d"
      },
      "execution_count": 7,
      "outputs": [
        {
          "output_type": "stream",
          "name": "stdout",
          "text": [
            "_ _ _\n",
            "Guess a letter: s\n",
            "_ _ s\n",
            "Guess a letter: t\n",
            "_ t s\n",
            "Guess a letter: b\n",
            "Congratulation! You have guessed the word correctly: bts\n"
          ]
        }
      ]
    },
    {
      "cell_type": "markdown",
      "source": [
        "**Number Guessing Game:** Create a program that generates a random number between 1 and 100, and then asks the user to guess the number. The program should provide hints to the user if the guessed number is geater or less than the target number, and keep asking for a new guess until the user guesses correctly."
      ],
      "metadata": {
        "id": "cxE5_mq7JUSt"
      }
    },
    {
      "cell_type": "code",
      "source": [
        "Go_play = input(\"Do you want to play Number Guessing Game (yes/no)?\")\n",
        "\n",
        "if Go_play == \"yes\":\n",
        "  random_number = random.randint(1,100)"
      ],
      "metadata": {
        "colab": {
          "base_uri": "https://localhost:8080/"
        },
        "id": "TpmA9Jr8-hQu",
        "outputId": "ef5d84d9-4b7c-4527-a6a8-315b371119b5"
      },
      "execution_count": 40,
      "outputs": [
        {
          "name": "stdout",
          "output_type": "stream",
          "text": [
            "Do you want to play Number Guessing Game (yes/no)?yes\n"
          ]
        }
      ]
    },
    {
      "cell_type": "code",
      "source": [
        "while True:\n",
        "  guess_number = int(input(\"Give me a number between 1 and 100: \"))\n",
        "\n",
        "  if 1 <= guess_number <=100:\n",
        "\n",
        "    if guess_number == random_number:\n",
        "      print(\"Congratulations! You guessed the number: \", guess_number)\n",
        "      break\n",
        "    elif guess_number < random_number:\n",
        "      print(\"The number is greater, try again!\")\n",
        "    elif guess_number > random_number:\n",
        "      print(\"The number is low, try again!\")\n",
        "  else:\n",
        "    print(\"Plis!, Enter a number within the range\")"
      ],
      "metadata": {
        "colab": {
          "base_uri": "https://localhost:8080/"
        },
        "id": "OUOJZ81hyz6e",
        "outputId": "b913913a-1272-4568-b00c-26bd93e877ac"
      },
      "execution_count": 41,
      "outputs": [
        {
          "output_type": "stream",
          "name": "stdout",
          "text": [
            "Give me a number between 1 and 100: 120\n",
            "Plis!, Enter a number within the range\n",
            "Give me a number between 1 and 100: 50\n",
            "The number is low, try again!\n",
            "Give me a number between 1 and 100: 30\n",
            "The number is greater, try again!\n",
            "Give me a number between 1 and 100: 40\n",
            "The number is greater, try again!\n",
            "Give me a number between 1 and 100: 45\n",
            "The number is greater, try again!\n",
            "Give me a number between 1 and 100: 47\n",
            "The number is greater, try again!\n",
            "Give me a number between 1 and 100: 48\n",
            "Congratulations! You guessed the number:  48\n"
          ]
        }
      ]
    },
    {
      "cell_type": "markdown",
      "source": [
        "Number guessing game with a limit of attempts to guess the number."
      ],
      "metadata": {
        "id": "G2-ZaUfTzgmH"
      }
    },
    {
      "cell_type": "code",
      "source": [
        "Go_play = input(\"Do you want to play Number Guessing Game (yes/no)?\")\n",
        "\n",
        "if Go_play == \"yes\":\n",
        "  random_number = random.randint(1,100)\n",
        "\n",
        "Max_attempts = 15"
      ],
      "metadata": {
        "colab": {
          "base_uri": "https://localhost:8080/"
        },
        "id": "Sd2WLPqbSqqr",
        "outputId": "cc5e9eb9-8f22-44ba-8c80-ed4fa42656d6"
      },
      "execution_count": 28,
      "outputs": [
        {
          "name": "stdout",
          "output_type": "stream",
          "text": [
            "Do you want to play Number Guessing Game (yes/no)?yes\n"
          ]
        }
      ]
    },
    {
      "cell_type": "code",
      "source": [
        "while Max_attempts > 0:\n",
        "  guess_number = int(input(\"Give me a number between 1 and 100: \"))\n",
        "\n",
        "  if 1 <= guess_number <=100:\n",
        "    Max_attempts -= 1\n",
        "\n",
        "    if guess_number == random_number:\n",
        "      print(\"Congratulations! You guessed the number: \", guess_number)\n",
        "      break\n",
        "    elif guess_number < random_number:\n",
        "      print(\"The number is greater, try again!\")\n",
        "    elif guess_number > random_number:\n",
        "      print(\"The number is low, try again!\")\n",
        "  else:\n",
        "    print(\"Plis!, Enter a number within the range\")\n",
        "\n",
        "if Max_attempts == 0:\n",
        "  print(f\"Sorry, You failed to guess the number. The number was {random_number}\")"
      ],
      "metadata": {
        "colab": {
          "base_uri": "https://localhost:8080/"
        },
        "id": "AkpSfOE3ym7K",
        "outputId": "2fcfb5b3-917b-4837-bf34-2967831f4116"
      },
      "execution_count": 29,
      "outputs": [
        {
          "output_type": "stream",
          "name": "stdout",
          "text": [
            "Give me a number between 1 and 100: 50\n",
            "The number is greater, try again!\n",
            "Give me a number between 1 and 100: 60\n",
            "The number is greater, try again!\n",
            "Give me a number between 1 and 100: 70\n",
            "The number is greater, try again!\n",
            "Give me a number between 1 and 100: 80\n",
            "The number is low, try again!\n",
            "Give me a number between 1 and 100: 90\n",
            "The number is low, try again!\n",
            "Give me a number between 1 and 100: 84\n",
            "The number is low, try again!\n",
            "Give me a number between 1 and 100: 75\n",
            "The number is low, try again!\n",
            "Give me a number between 1 and 100: 60\n",
            "The number is greater, try again!\n",
            "Give me a number between 1 and 100: 62\n",
            "The number is greater, try again!\n",
            "Give me a number between 1 and 100: 63\n",
            "The number is greater, try again!\n",
            "Give me a number between 1 and 100: 64\n",
            "The number is greater, try again!\n",
            "Give me a number between 1 and 100: 65\n",
            "The number is greater, try again!\n",
            "Give me a number between 1 and 100: 66\n",
            "The number is greater, try again!\n",
            "Give me a number between 1 and 100: 67\n",
            "The number is greater, try again!\n",
            "Give me a number between 1 and 100: 68\n",
            "The number is greater, try again!\n",
            "Sorry, You failed to guess the number. The number was 73\n"
          ]
        }
      ]
    }
  ]
}